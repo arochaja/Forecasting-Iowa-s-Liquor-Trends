{
  "nbformat": 4,
  "nbformat_minor": 0,
  "metadata": {
    "colab": {
      "provenance": [],
      "collapsed_sections": [
        "dqXAzjpQh5Ti",
        "l4OhjrEFWAok",
        "0W5fIC5CWD0K",
        "b7zhTQhmWRnQ",
        "znGRoJwsXD2Q",
        "cqBTyelWp_cc",
        "dMMDMZ1HYJ1G",
        "yB8iU-G7orj4"
      ]
    },
    "kernelspec": {
      "name": "python3",
      "display_name": "Python 3"
    },
    "language_info": {
      "name": "python"
    }
  },
  "cells": [
    {
      "cell_type": "code",
      "execution_count": null,
      "metadata": {
        "id": "KPnDCEfLqod2",
        "colab": {
          "base_uri": "https://localhost:8080/"
        },
        "outputId": "21ac9bda-bcfb-40d6-f034-21bde597f3af"
      },
      "outputs": [
        {
          "output_type": "stream",
          "name": "stdout",
          "text": [
            "Mounted at /content/drive\n"
          ]
        }
      ],
      "source": [
        "import pandas as pd\n",
        "import requests\n",
        "import json\n",
        "from google.colab import drive\n",
        "import matplotlib.pyplot as plt\n",
        "import seaborn as sns\n",
        "import numpy as np\n",
        "import calendar\n",
        "import itertools\n",
        "import warnings\n",
        "drive.mount('/content/drive')"
      ]
    },
    {
      "cell_type": "markdown",
      "source": [
        "## External Data"
      ],
      "metadata": {
        "id": "dqXAzjpQh5Ti"
      }
    },
    {
      "cell_type": "markdown",
      "source": [
        "The read_in_data(year) function in this Google Colab cell reads and processes demographic data from a CSV file for a specified year. It filters the relevant columns containing population estimates, simplifies the column names, and cleans the data by handling missing values and converting percentage values into decimal format. Additionally, the function calculates the total adult population by aggregating age groups and drops unnecessary columns to focus on key demographic and socioeconomic indicators, such as total population, median age, and median income. It also cleans income-related data, handling special cases like missing values.\n",
        "\n",
        "The final output is a cleaned and structured dataset, making it ready for analysis. The processed data includes key demographics like population by race, income, and education levels, which can be used for further demographic or socioeconomic studies."
      ],
      "metadata": {
        "id": "K6zifHgpVK-x"
      }
    },
    {
      "cell_type": "code",
      "source": [
        "def read_in_data(year):\n",
        "  demographics = pd.read_csv(f'/content/drive/My Drive/data/{year}.csv')\n",
        "  columns_to_keep = ['Label (Grouping)'] + [col for col in demographics.columns if 'Total!!Estimate' in col]\n",
        "  demographics = demographics[columns_to_keep]\n",
        "  new_column_names = ['Label (Grouping)'] + [col.split('!!')[0].split(',')[0].upper().replace(\" COUNTY\", \"\") for col in demographics.columns[1:]]\n",
        "  demographics.columns = new_column_names\n",
        "  demographics = demographics.dropna()\n",
        "  demographics = demographics.set_index('Label (Grouping)').T.reset_index().rename(columns={'index': 'county'})\n",
        "  demographics.columns = demographics.columns.str.strip()\n",
        "\n",
        "  new_column_names = {\n",
        "      'county': 'county',\n",
        "      'Total population': 'total_pop',\n",
        "      'Under 5 years': 'under_5',\n",
        "      '5 to 17 years': 'age_5_17',\n",
        "      '18 to 24 years': 'age_18_24',\n",
        "      '25 to 44 years': 'age_25_44',\n",
        "      '45 to 54 years': 'age_45_54',\n",
        "      '55 to 64 years': 'age_55_64',\n",
        "      '65 to 74 years': 'age_65_74',\n",
        "      '75 years and over': 'over_75',\n",
        "      'Median age (years)': 'median_age',\n",
        "      'Male': 'male',\n",
        "      'Female': 'female',\n",
        "      'One race': 'one_race',\n",
        "      'White': 'white',\n",
        "      'Black or African American': 'black_afam',\n",
        "      'American Indian and Alaska Native': 'am_indian_alaskan',\n",
        "      'Asian': 'asian',\n",
        "      'Native Hawaiian and Other Pacific Islander': 'pacific_islander',\n",
        "      'Some other race': 'other_race',\n",
        "      'Two or more races': 'two_plus_races',\n",
        "      'Hispanic or Latino origin (of any race)': 'hisp_latino',\n",
        "      'White alone, not Hispanic or Latino': 'white_non_hisp',\n",
        "      'Population 5 years and over': 'pop_5_plus',\n",
        "      'Speak language other than English': 'non_eng_speaker',\n",
        "      'Speak English  \"very well\"': 'speak_eng_very_well',\n",
        "      'Speak English less than \"very well\"': 'speak_eng_less_well',\n",
        "      'Population 15 years and over': 'pop_15_plus',\n",
        "      'Never married': 'never_married',\n",
        "      'Now married, except separated': 'married',\n",
        "      'Divorced or separated': 'div_sep',\n",
        "      'Widowed': 'widowed',\n",
        "      'Population 25 years and over': 'pop_25_plus',\n",
        "      'Less than high school graduate': 'less_hs',\n",
        "      'High school graduate (includes equivalency)': 'hs_grad',\n",
        "      'Some college or associate\\'s degree': 'some_college_assoc',\n",
        "      'Bachelor\\'s degree': 'bachelors',\n",
        "      'Graduate or professional degree': 'grad_prof_degree',\n",
        "      '$1 to $9,999 or loss': 'income_1_9999',\n",
        "      '$10,000 to $14,999': 'income_10000_14999',\n",
        "      '$15,000 to $24,999': 'income_15000_24999',\n",
        "      '$25,000 to $34,999': 'income_25000_34999',\n",
        "      '$35,000 to $49,999': 'income_35000_49999',\n",
        "      '$50,000 to $64,999': 'income_50000_64999',\n",
        "      '$65,000 to $74,999': 'income_65000_74999',\n",
        "      '$75,000 or more': 'income_75000_plus',\n",
        "      'Median income (dollars)': 'median_income',\n",
        "      'Population for whom poverty status is determined': 'pop_poverty_determined',\n",
        "      'Below 100 percent of the poverty level': 'below_poverty',\n",
        "      '100 to 149 percent of the poverty level': 'poverty_100_149',\n",
        "      'At or above 150 percent of the poverty level': 'above_150_poverty',\n",
        "      'Citizenship status': 'citizenship_status',\n",
        "      'Place of birth': 'place_of_birth'\n",
        "  }\n",
        "  demographics = demographics.rename(columns={'Speak English \"very well\"': 'speak_eng_very_well'})\n",
        "  demographics['year'] = year\n",
        "  demographics.rename(columns=new_column_names, inplace=True)\n",
        "  for col in demographics.loc[:, 'under_5':'over_75'].columns.tolist():\n",
        "    demographics[col] = demographics[col].str.replace('%', '').astype(float) / 100\n",
        "  demographics['adult_pop'] = demographics[['age_18_24', 'age_25_44', 'age_45_54', 'age_55_64', 'age_65_74', 'over_75']].sum(axis=1)\n",
        "  age_columns = ['under_5', 'age_5_17', 'age_18_24', 'age_25_44', 'age_45_54', 'age_55_64', 'age_65_74', 'over_75']\n",
        "  demographics = demographics.drop(columns=age_columns)\n",
        "  demographics_drop = demographics.drop(columns=['place_of_birth', 'citizenship_status', 'pop_15_plus', 'pop_25_plus', 'pop_5_plus', 'grad_prof_degree',\n",
        "                                                 'female', 'above_150_poverty', 'pop_poverty_determined', 'never_married', 'married', 'non_eng_speaker',\n",
        "                                                 'speak_eng_very_well', 'speak_eng_less_well'])\n",
        "  income_columns = [col for col in demographics_drop.columns if 'income' in col]\n",
        "  income_columns_to_drop = [col for col in income_columns if col != 'median_income']\n",
        "  demographics_drop = demographics_drop.drop(columns=income_columns_to_drop)\n",
        "  columns_list = demographics_drop.loc[:, 'male':'bachelors'].columns.tolist()\n",
        "  for col in columns_list:\n",
        "    demographics_drop[col] = demographics_drop[col].str.replace('%', '').astype(float) / 100\n",
        "  for col in ['below_poverty', 'poverty_100_149']:\n",
        "    demographics_drop[col] = demographics_drop[col].str.replace('%', '').astype(float) / 100\n",
        "  columns = ['total_pop', 'median_age', 'median_income']\n",
        "  for col in columns:\n",
        "    # Only in median income for 2015 some value = '(X)'\n",
        "    demographics_drop[col] = demographics_drop[col].replace('(X)', '-1')\n",
        "    demographics_drop[col] = demographics_drop[col].str.replace(',', '').astype(float)\n",
        "  return demographics_drop"
      ],
      "metadata": {
        "id": "_T0uOgwMrFLE"
      },
      "execution_count": null,
      "outputs": []
    },
    {
      "cell_type": "code",
      "source": [
        "pd.set_option('display.max_rows', 10)\n",
        "dfs = []\n",
        "for year in range(2012, 2023):\n",
        "  demographics_year = read_in_data(year)\n",
        "  dfs.append(demographics_year)\n",
        "\n",
        "demographics_all = pd.concat(dfs, ignore_index=True)\n",
        "rows_to_update = demographics_all[(demographics_all['median_income'] == -1) & (demographics_all['year'] == 2015)]\n",
        "# Fixed -1 for median income in 2015, by taking average between 2014 and 2016 for the 40 missing county data\n",
        "for index, row in rows_to_update.iterrows():\n",
        "  county = row['county']\n",
        "\n",
        "  median_income_2014 = demographics_all[(demographics_all['county'] == county) & (demographics_all['year'] == 2014)]['median_income']\n",
        "  median_income_2016 = demographics_all[(demographics_all['county'] == county) & (demographics_all['year'] == 2016)]['median_income']\n",
        "  if not median_income_2014.empty and not median_income_2016.empty:\n",
        "      mean_median_income = (median_income_2014.iloc[0] + median_income_2016.iloc[0]) / 2\n",
        "      demographics_all.loc[index, 'median_income'] = mean_median_income\n",
        "demographics_all.to_csv('demographics_2012_2022.csv', index=False)"
      ],
      "metadata": {
        "id": "MSHjrEOXvA3e"
      },
      "execution_count": null,
      "outputs": []
    },
    {
      "cell_type": "markdown",
      "source": [
        "## Iowa Data"
      ],
      "metadata": {
        "id": "l4OhjrEFWAok"
      }
    },
    {
      "cell_type": "markdown",
      "source": [
        "**Had to group straight in api to get all data**"
      ],
      "metadata": {
        "id": "Kwwl2-K-WO3g"
      }
    },
    {
      "cell_type": "markdown",
      "source": [
        "A query is constructed in SQL-like syntax to retrieve the year, month, county, category name, and the total sales and liters of liquor sold. The data is filtered to include records only before 2023 (since only have pre 2023 data for demographics) and ensures that the county and category name fields are not null. The query groups the data by year, month, county, and category name, and sets a limit of 10 million records to grab all of the records since orginal limit was 1000.\n",
        "\n",
        "After retrieving the data via an HTTP request to an API, the response is processed as JSON and normalized into a pandas DataFrame using pd.json_normalize(). Additional data cleaning is performed by converting the year, month, total sales, and total liters columns to appropriate data types (integers and floats) to ensure they are ready for analysis. The result is a cleaned dataset of Iowa liquor sales, which is structured by date, county, and sales category."
      ],
      "metadata": {
        "id": "znx2Q1bcXAg7"
      }
    },
    {
      "cell_type": "code",
      "source": [
        "query = \"\"\"\n",
        "https://data.iowa.gov/resource/m3tr-qhgy.json?$select=date_extract_y(date) as year,\n",
        "date_extract_m(date) as month, county, category_name, sum(sale_dollars) as total_sales, sum(sale_liters) as total_liters\n",
        "&$where=date < '2023-01-01' AND county IS NOT NULL AND category_name IS NOT NULL\n",
        "&$group=year, month, county, category_name\n",
        "&$limit=10000000\n",
        "\"\"\"\n",
        "\n",
        "response = requests.get(query)\n",
        "iowa = response.json()\n",
        "df_iowa = pd.json_normalize(iowa)"
      ],
      "metadata": {
        "id": "BfLoM2XdTn-C"
      },
      "execution_count": null,
      "outputs": []
    },
    {
      "cell_type": "code",
      "source": [
        "df_iowa = pd.read_csv(f'/content/drive/My Drive/data/iowa_liquor_sales.csv')\n",
        "df_iowa['year'] = df_iowa['year'].astype(int)\n",
        "df_iowa['month'] = df_iowa['month'].astype(int)\n",
        "df_iowa['total_sales'] = df_iowa['total_sales'].astype(float)\n",
        "df_iowa['total_liters'] = df_iowa['total_liters'].astype(float)"
      ],
      "metadata": {
        "id": "zmUuRyOxX1op"
      },
      "execution_count": null,
      "outputs": []
    },
    {
      "cell_type": "code",
      "source": [
        "category_mapping = {\n",
        "    'COCKTAILS/RTD': 'Cocktails',\n",
        "    'TRIPLE SEC': 'Liqueurs',\n",
        "    'AMERICAN ALCOHOL': 'Other',\n",
        "    'BUTTERSCOTCH SCHNAPPS': 'Schnapps',\n",
        "    'SPICED RUM': 'Rums',\n",
        "    'TROPICAL FRUIT SCHNAPPS': 'Schnapps',\n",
        "    'SPECIAL ORDER ITEMS': 'Other',\n",
        "    'CREAM LIQUEURS': 'Liqueurs',\n",
        "    'COFFEE LIQUEURS': 'Liqueurs',\n",
        "    '100% AGAVE TEQUILA': 'Tequila',\n",
        "    'AMERICAN SCHNAPPS': 'Schnapps',\n",
        "    'TENNESSEE WHISKIES': 'Whiskeys',\n",
        "    'SINGLE MALT SCOTCH': 'Scotch',\n",
        "    'BLENDED WHISKIES': 'Whiskeys',\n",
        "    'WHITE RUM': 'Rums',\n",
        "    'IMPORTED CORDIALS & LIQUEURS': 'Liqueurs',\n",
        "    'BOTTLED IN BOND BOURBON': 'Bourbon',\n",
        "    'AMERICAN VODKAS': 'Vodka',\n",
        "    'NEUTRAL GRAIN SPIRITS FLAVORED': 'Other',\n",
        "    'IMPORTED VODKAS': 'Vodka',\n",
        "    'STRAIGHT RYE WHISKIES': 'Whiskeys',\n",
        "    'MISC. IMPORTED CORDIALS & LIQUEURS': 'Liqueurs',\n",
        "    'GREEN CREME DE MENTHE': 'Liqueurs',\n",
        "    'MEZCAL': 'Tequila',\n",
        "    'MIXTO TEQUILA': 'Tequila',\n",
        "    'SCOTCH WHISKIES': 'Scotch',\n",
        "    'CANADIAN WHISKIES': 'Whiskeys',\n",
        "    'AMERICAN BRANDIES': 'Brandies',\n",
        "    'AMERICAN CORDIALS & LIQUEURS': 'Liqueurs',\n",
        "    'IMPORTED DRY GINS': 'Gins',\n",
        "    'AMERICAN DRY GINS': 'Gins',\n",
        "    'DISTILLED SPIRITS SPECIALTY': 'Other',\n",
        "    'NEUTRAL GRAIN SPIRITS': 'Other',\n",
        "    'AMERICAN FLAVORED VODKA': 'Vodka',\n",
        "    'STRAIGHT BOURBON WHISKIES': 'Bourbon',\n",
        "    'AMERICAN DISTILLED SPIRITS SPECIALTY': 'Other',\n",
        "    'CORN WHISKIES': 'Whiskeys',\n",
        "    'FLAVORED RUM': 'Rums',\n",
        "    'IRISH WHISKIES': 'Whiskeys',\n",
        "    'IMPORTED SCHNAPPS': 'Schnapps',\n",
        "    'AMERICAN COCKTAILS': 'Cocktails',\n",
        "    'AGED DARK RUM': 'Rums',\n",
        "    'GRAPE SCHNAPPS': 'Schnapps',\n",
        "    'WHISKEY LIQUEUR': 'Liqueurs',\n",
        "    'IMPORTED BRANDIES': 'Brandies',\n",
        "    'TEMPORARY & SPECIALTY PACKAGES': 'Other',\n",
        "    'SINGLE BARREL BOURBON WHISKIES': 'Bourbon',\n",
        "    'SPEARMINT SCHNAPPS': 'Schnapps',\n",
        "    'FLAVORED GINS': 'Gins',\n",
        "    'WATERMELON SCHNAPPS': 'Schnapps',\n",
        "    '100 PROOF VODKA': 'Vodka',\n",
        "    'RASPBERRY SCHNAPPS': 'Schnapps',\n",
        "    'IMPORTED GRAPE BRANDIES': 'Brandies',\n",
        "    'MISCELLANEOUS BRANDIES': 'Brandies',\n",
        "    'PEACH SCHNAPPS': 'Schnapps',\n",
        "    'CINNAMON SCHNAPPS': 'Schnapps',\n",
        "    'DARK CREME DE CACAO': 'Liqueurs',\n",
        "    'ROOT BEER SCHNAPPS': 'Schnapps',\n",
        "    'PEPPERMINT SCHNAPPS': 'Schnapps',\n",
        "    'GOLD RUM': 'Rums',\n",
        "    'FLAVORED GIN': 'Gins',\n",
        "    'AMERICAN GRAPE BRANDIES': 'Brandies',\n",
        "    'IMPORTED FLAVORED VODKA': 'Vodka',\n",
        "    'IOWA DISTILLERIES': 'Other',\n",
        "    'MISCELLANEOUS SCHNAPPS': 'Schnapps',\n",
        "    'MISC. AMERICAN CORDIALS & LIQUEURS': 'Liqueurs',\n",
        "    'TEQUILA': 'Tequila',\n",
        "    'BLACKBERRY BRANDIES': 'Brandies',\n",
        "    'WHITE CREME DE MENTHE': 'Liqueurs',\n",
        "    'VODKA FLAVORED': 'Vodka',\n",
        "    'VODKA 80 PROOF': 'Vodka',\n",
        "    'OTHER PROOF VODKA': 'Vodka',\n",
        "    'AMERICAN AMARETTO': 'Liqueurs',\n",
        "    'IMPORTED DISTILLED SPIRITS SPECIALTY': 'Other',\n",
        "    'CHERRY BRANDIES': 'Brandies',\n",
        "    'AMERICAN SLOE GINS': 'Gins',\n",
        "    'PUERTO RICO & VIRGIN ISLANDS RUM': 'Rums',\n",
        "    'IMPORTED VODKA - MISC': 'Vodka',\n",
        "    'JAMAICA RUM': 'Rums',\n",
        "    'APRICOT BRANDIES': 'Brandies',\n",
        "    'PEACH BRANDIES': 'Brandies',\n",
        "    'HOLIDAY VAP': 'Other',\n",
        "    'ROCK & RYE': 'Whiskeys',\n",
        "    'BARBADOS RUM': 'Rums',\n",
        "    'IMPORTED AMARETTO': 'Liqueurs',\n",
        "    'STRAWBERRY SCHNAPPS': 'Schnapps',\n",
        "    'APPLE SCHNAPPS': 'Schnapps',\n",
        "    'DECANTERS & SPECIALTY PACKAGES': 'Other',\n",
        "    'WHITE CREME DE CACAO': 'Liqueurs',\n",
        "    'CREME DE ALMOND': 'Liqueurs',\n",
        "    'ANISETTE': 'Liqueurs',\n",
        "    'JAPANESE WHISKY': 'Whiskeys',\n",
        "    'DELISTED ITEMS': 'Other',\n",
        "    'LOW PROOF VODKA': 'Vodka',\n",
        "    'IMPORTED GINS': 'Gins',\n",
        "    'IOWA DISTILLERY WHISKIES': 'Whiskeys',\n",
        "    'IMPORTED WHISKIES': 'Whiskeys',\n",
        "    'AMARETTO - IMPORTED': 'Liqueurs',\n",
        "    'AMERICAN WHISKIES': 'Whiskeys',\n",
        "    'SCHNAPPS - IMPORTED': 'Schnapps',\n",
        "    'DELISTED / SPECIAL ORDER ITEMS': 'Other',\n",
        "    'HIGH PROOF BEER - AMERICAN': 'Beer',\n",
        "    'IMPORTED VODKA - CHERRY': 'Vodka'\n",
        "}"
      ],
      "metadata": {
        "id": "FTQiB0855V6t"
      },
      "execution_count": null,
      "outputs": []
    },
    {
      "cell_type": "markdown",
      "source": [
        "## Joining Data - Final Dataset & Features"
      ],
      "metadata": {
        "id": "0W5fIC5CWD0K"
      }
    },
    {
      "cell_type": "markdown",
      "source": [
        "This series of cells merges Iowa liquor sales data with demographic information, prepares the data for analysis, and creates interaction features. Initially, the demographic and liquor sales datasets are merged based on county and year. The data is cleaned, with categories grouped, month names mapped to numbers, and dummy variables created for categorical features like months and liquor sales categories. The key demographic and socioeconomic features, such as race, age, and education, are selected for further analysis.\n",
        "\n",
        "After aggregating the data to calculate total sales and sales per capita, interaction features are generated between selected variables using a custom function. This function multiplies pairs of features to capture potential relationships between demographic factors and liquor sales patterns. The final dataset is enhanced with these interaction features, preparing it for more detailed analysis."
      ],
      "metadata": {
        "id": "D3Ylbz4xXipv"
      }
    },
    {
      "cell_type": "code",
      "source": [
        "demographics = pd.read_csv(f'/content/drive/My Drive/data/demographics_2012_2022.csv')\n",
        "merged_df_category = pd.merge(df_iowa, demographics, how='left', on=['county', 'year'])\n",
        "\n",
        "category_sales = merged_df_category.groupby('category_name')['total_sales'].sum().sort_values(ascending=False)\n",
        "top_3_categories = category_sales.index[:3].tolist()\n",
        "\n",
        "merged_df_category['grouped_category'] = merged_df_category['category_name'].map(category_mapping)\n",
        "\n",
        "month_mapping = {i: calendar.month_name[i] for i in range(1, 13)}\n",
        "merged_df_category['month_name'] = merged_df_category['month'].map(month_mapping)\n",
        "dummies = pd.get_dummies(merged_df_category[['month_name','grouped_category']], drop_first=True, dtype=int)\n",
        "merged_df_category = pd.concat([merged_df_category, dummies], axis=1)\n",
        "\n",
        "features = ['year', 'total_pop', 'median_age', 'male', 'one_race', 'white', 'black_afam',\n",
        "            'am_indian_alaskan', 'asian', 'pacific_islander', 'other_race',\n",
        "            'two_plus_races', 'hisp_latino', 'white_non_hisp', 'div_sep', 'widowed',\n",
        "            'less_hs', 'hs_grad', 'some_college_assoc', 'bachelors', 'median_income',\n",
        "            'below_poverty', 'poverty_100_149', 'adult_pop']\n",
        "features += [col for col in merged_df_category.columns if col.startswith('month_name_')]\n",
        "features += [col for col in merged_df_category.columns if col.startswith('grouped_category_')]\n",
        "\n",
        "final_df = merged_df_category.groupby(features)['total_sales'].sum().reset_index()\n",
        "final_df['sale_per_capita'] = final_df['total_sales'] / final_df['total_pop']\n",
        "\n",
        "features.remove('total_pop')\n",
        "features_DARE = features.copy()\n",
        "features_BOOZE = features.copy()\n",
        "\n",
        "features_DARE.remove('year')"
      ],
      "metadata": {
        "id": "De5q5ghnToi4"
      },
      "execution_count": null,
      "outputs": []
    },
    {
      "cell_type": "code",
      "source": [
        "def create_interaction_features(df, features):\n",
        "  interactions = []\n",
        "  for feature1, feature2 in itertools.combinations(features, 2):\n",
        "    interactions.append((feature1, feature2))\n",
        "\n",
        "  for feature1, feature2 in interactions:\n",
        "    new_feature_name = f\"{feature1}_x_{feature2}\"\n",
        "    df[new_feature_name] = df[feature1] * df[feature2]\n",
        "  return df\n",
        "\n",
        "warnings.filterwarnings('ignore')\n",
        "final_df_with_interactions = create_interaction_features(final_df.copy(), features_BOOZE)"
      ],
      "metadata": {
        "id": "zbfpF-uwa1ss"
      },
      "execution_count": null,
      "outputs": []
    },
    {
      "cell_type": "code",
      "source": [
        "for col in final_df_with_interactions.columns:\n",
        "  if '_x_' in col and col not in features_BOOZE:\n",
        "    features_BOOZE.append(col)"
      ],
      "metadata": {
        "id": "qLs2EOM8ZU6z"
      },
      "execution_count": null,
      "outputs": []
    },
    {
      "cell_type": "markdown",
      "source": [
        "## Visualizations"
      ],
      "metadata": {
        "id": "b7zhTQhmWRnQ"
      }
    },
    {
      "cell_type": "markdown",
      "source": [
        "\n",
        "This visualization shows a scatter plot comparing total population against total liquor sales, with the data points colored by year. The data is first aggregated by year, summing the total population and total liquor sales for each year. Each point on the scatter plot represents the relationship between the population of a county and its corresponding total liquor sales for a given year.\n",
        "\n",
        "The plot includes a clear trend where total sales increase with the population, suggesting a positive correlation between the two variables. The data points are color-coded by year, allowing for a temporal comparison across different years from 2012 to 2022. The plot also includes labels, a grid, and a legend, making it easier to interpret the changes in sales and population over time."
      ],
      "metadata": {
        "id": "5cPH4sUAYGzc"
      }
    },
    {
      "cell_type": "code",
      "source": [
        "plt.figure(figsize=(10, 6))\n",
        "df_year = final_df.groupby(['year', 'total_pop'])['total_sales'].sum()"
      ],
      "metadata": {
        "colab": {
          "base_uri": "https://localhost:8080/",
          "height": 170
        },
        "id": "oQb8lf0Y_I1-",
        "outputId": "f7a25b86-3635-44a2-814e-2176a3f8ea48"
      },
      "execution_count": null,
      "outputs": [
        {
          "output_type": "display_data",
          "data": {
            "text/plain": [
              "<Figure size 1000x600 with 0 Axes>"
            ]
          },
          "metadata": {}
        }
      ]
    },
    {
      "cell_type": "code",
      "source": [
        "plt.figure(figsize=(10, 6))\n",
        "for year, data in df_year.groupby('year'):\n",
        "  plt.scatter(data.index.get_level_values('total_pop'), data.values, label=str(year))\n",
        "\n",
        "plt.xlabel('Total Population')\n",
        "plt.ylabel('Total Sales')\n",
        "plt.title('Total Population vs. Total Sales (Colored by Year)')\n",
        "plt.grid(True)\n",
        "plt.legend()\n",
        "plt.show()\n"
      ],
      "metadata": {
        "colab": {
          "base_uri": "https://localhost:8080/",
          "height": 60
        },
        "id": "XWhl60LhANrc",
        "outputId": "7442d441-927d-465d-faff-546597dbf308"
      },
      "execution_count": null,
      "outputs": [
        {
          "output_type": "display_data",
          "data": {
            "text/plain": [
              "<Figure size 1000x600 with 1 Axes>"
            ],
            "image/png": "[encoded data removed]"
          },
          "metadata": {}
        }
      ]
    },
    {
      "cell_type": "markdown",
      "source": [
        "## Model Fitting"
      ],
      "metadata": {
        "id": "fAt7_qC_WXya"
      }
    },
    {
      "cell_type": "markdown",
      "source": [
        "This code implements two types of regression models: a simple linear regression and ridge regression. The LinearRegression class calculates the best-fit line by using the normal equation, while RidgeRegression extends this by including regularization to prevent overfitting, controlled by the parameter alpha. The code also provides essential data preprocessing functions, including a min_max_scale() function to normalize the data and train_test_split() to divide the dataset into training and testing sets.\n",
        "\n",
        "For model evaluation, the code defines metrics like RMSE and R-squared through regression_metrics() and includes a cross-validation function (cross_validation()) to assess model performance across multiple folds. Additionally, the rfe() (Recursive Feature Elimination) function performs feature selection by iteratively removing the least important features based on their coefficients. This comprehensive approach ensures robust model training, evaluation, and feature selection."
      ],
      "metadata": {
        "id": "1QgAZDQoaC_p"
      }
    },
    {
      "cell_type": "code",
      "source": [
        "class LinearRegression:\n",
        "    def __init__(self):\n",
        "        self.coef_ = None\n",
        "        self.intercept_ = None\n",
        "\n",
        "    def fit(self,X_train,y_train):\n",
        "        X_train = np.insert(X_train, 0, 1,axis=1)\n",
        "        result = np.linalg.inv(np.dot(X_train.T,X_train)).dot(X_train.T).dot(y_train)\n",
        "        self.intercept_ = result[0]\n",
        "        self.coef_ = result[1:]\n",
        "\n",
        "    def predict(self,X_test):\n",
        "        return np.dot(X_test,self.coef_) + self.intercept_\n",
        "\n",
        "class RidgeRegression:\n",
        "    def __init__(self, alpha=1.0):\n",
        "        self.coef_ = None\n",
        "        self.intercept_ = None\n",
        "        self.alpha = alpha\n",
        "\n",
        "    def fit(self, X_train, y_train):\n",
        "        X_train = np.insert(X_train, 0, 1, axis=1)\n",
        "        n_features = X_train.shape[1]\n",
        "        I = np.eye(n_features)\n",
        "        I[0, 0] = 0\n",
        "        regularization_term = self.alpha * I\n",
        "        result = np.linalg.inv(np.dot(X_train.T, X_train) + regularization_term).dot(X_train.T).dot(y_train)\n",
        "        self.intercept_ = result[0]\n",
        "        self.coef_ = result[1:]\n",
        "\n",
        "    def predict(self, X_test):\n",
        "        return np.dot(X_test, self.coef_) + self.intercept_\n",
        "\n",
        "def min_max_scale(df, columns):\n",
        "    df_new = df.copy()\n",
        "    for column in columns:\n",
        "        min_val = df[column].min()\n",
        "        max_val = df[column].max()\n",
        "        df_new[column] = (df[column] - min_val) / (max_val - min_val)\n",
        "    return df_new\n",
        "\n",
        "def train_test_split(X, y, test_size=0.2, random_state=None):\n",
        "  if random_state is not None:\n",
        "        np.random.seed(random_state)\n",
        "  indices = np.arange(len(X))\n",
        "  np.random.shuffle(indices)\n",
        "  test_size = int(len(X) * test_size)\n",
        "  test_indices = indices[:test_size]\n",
        "  train_indices = indices[test_size:]\n",
        "  return X.iloc[train_indices], X.iloc[test_indices], y.iloc[train_indices], y.iloc[test_indices]\n",
        "\n",
        "def regression_metrics(y_true, y_pred):\n",
        "    rss = np.sum((y_true - y_pred) ** 2)\n",
        "    tss = np.sum((y_true - np.mean(y_true)) ** 2)\n",
        "    rmse_value = np.sqrt(rss / len(y_true))\n",
        "    r_squared_value = 1 - (rss / tss)\n",
        "    return rmse_value, r_squared_value\n",
        "\n",
        "def cross_validation(X, y, model, k=5, random_state=None):\n",
        "    if random_state is not None:\n",
        "        np.random.seed(random_state)\n",
        "    indices = np.arange(len(y))\n",
        "    np.random.shuffle(indices)\n",
        "\n",
        "    fold_size = len(y) // k\n",
        "    folds = [indices[i * fold_size:(i + 1) * fold_size] for i in range(k)]\n",
        "\n",
        "    r2_list = []\n",
        "\n",
        "    for i in range(k):\n",
        "        validation_indices = folds[i]\n",
        "        train_indices = np.concatenate([folds[j] for j in range(k) if j != i])\n",
        "\n",
        "        X_train, y_train = X.iloc[train_indices], y.iloc[train_indices]\n",
        "        X_val, y_val = X.iloc[validation_indices], y.iloc[validation_indices]\n",
        "\n",
        "        model.fit(X_train, y_train)\n",
        "        y_pred = model.predict(X_val)\n",
        "\n",
        "        r2_list.append(regression_metrics(y_val, y_pred)[1])\n",
        "\n",
        "    return np.mean(r2_list)\n",
        "\n",
        "def cross_validation_rmse(X, y, model, k=5, random_state=None):\n",
        "    if random_state is not None:\n",
        "        np.random.seed(random_state)\n",
        "    indices = np.arange(len(y))\n",
        "    np.random.shuffle(indices)\n",
        "\n",
        "    fold_size = len(y) // k\n",
        "    folds = [indices[i * fold_size:(i + 1) * fold_size] for i in range(k)]\n",
        "\n",
        "    rmse_list = []\n",
        "\n",
        "    for i in range(k):\n",
        "        validation_indices = folds[i]\n",
        "        train_indices = np.concatenate([folds[j] for j in range(k) if j != i])\n",
        "\n",
        "        X_train, y_train = X.iloc[train_indices], y.iloc[train_indices]\n",
        "        X_val, y_val = X.iloc[validation_indices], y.iloc[validation_indices]\n",
        "\n",
        "        model.fit(X_train, y_train)\n",
        "        y_pred = model.predict(X_val)\n",
        "\n",
        "        rmse_list.append(regression_metrics(y_val, y_pred)[0])\n",
        "\n",
        "    return np.mean(rmse_list)\n",
        "\n",
        "def rfe(X, y, n_features_to_select):\n",
        "    selected_features = list(X.columns)\n",
        "    selected_features.remove(\"one_race\")\n",
        "    feature_count = len(selected_features)\n",
        "\n",
        "    while len(selected_features) > n_features_to_select:\n",
        "        model = LinearRegression()\n",
        "        model.fit(X[selected_features], y)\n",
        "\n",
        "        coefficients = model.coef_\n",
        "        abs_coefficients = np.abs(coefficients)\n",
        "\n",
        "        least_important_feature_index = np.argmin(abs_coefficients)\n",
        "        least_important_feature = selected_features[least_important_feature_index]\n",
        "        selected_features.remove(least_important_feature)\n",
        "    return selected_features"
      ],
      "metadata": {
        "id": "Zgs30Me4XuNo"
      },
      "execution_count": null,
      "outputs": []
    },
    {
      "cell_type": "markdown",
      "source": [
        "### DEAD"
      ],
      "metadata": {
        "id": "znGRoJwsXD2Q"
      }
    },
    {
      "cell_type": "markdown",
      "source": [
        "\n",
        "In these cells, a linear regression model is used to analyze the relationship between a set of demographic features (features_DARE) and the target variable, which is liquor sales per capita (sale_per_capita). The data is first standardized using a min_max_scale() function, and the model is trained on this scaled data. After fitting the model, the coefficients for each feature are extracted and displayed, sorted by their absolute values to indicate which features have the strongest influence on liquor sales per capita.\n",
        "\n",
        "In the next set of cells, the data is split into training and testing sets using train_test_split(). A linear regression model is trained on the training set, and predictions are made on the test set. The model’s performance is evaluated using RMSE (Root Mean Squared Error) and R², which indicate a moderate fit. Additionally, cross-validation is performed to further assess the model’s generalizability, with an R² score output from multiple validation folds. These steps ensure a robust assessment of the model’s predictive power."
      ],
      "metadata": {
        "id": "83Ny2eUTlVN7"
      }
    },
    {
      "cell_type": "code",
      "source": [
        "X = final_df[features_DARE]\n",
        "y = final_df['sale_per_capita']"
      ],
      "metadata": {
        "id": "Aar5cc9NWJEc"
      },
      "execution_count": null,
      "outputs": []
    },
    {
      "cell_type": "code",
      "source": [
        "LinReg = LinearRegression()\n",
        "X_standardized = min_max_scale(X, features_DARE)\n",
        "LinReg.fit(X_standardized,y)\n",
        "coefficient_dict = {feature: coef for feature, coef in zip(features_DARE, LinReg.coef_)}\n",
        "coefficient_dict['intercept'] = LinReg.intercept_\n",
        "sorted_coeffs = sorted(coefficient_dict.items(),\n",
        "                                           key=lambda x: abs(x[1]),\n",
        "                                           reverse=True)\n",
        "print(\"{:<25} {:<15}\".format(\"Feature\", \"Standardized Coefficient\"))\n",
        "print(\"-\" * 50)\n",
        "for feature, coef in sorted_coeffs:\n",
        "    print(\"{:<25} {:<15.4f}\".format(feature, coef))"
      ],
      "metadata": {
        "id": "MT6zUMaJMGRC",
        "colab": {
          "base_uri": "https://localhost:8080/"
        },
        "outputId": "bb4c00e4-9fdc-4bb6-f049-7ca0a19789f8"
      },
      "execution_count": null,
      "outputs": [
        {
          "output_type": "stream",
          "name": "stdout",
          "text": [
            "Feature                   Standardized Coefficient\n",
            "--------------------------------------------------\n",
            "one_race                  5.2571         \n",
            "two_plus_races            4.3871         \n",
            "white                     -4.3068        \n",
            "intercept                 -2.8407        \n",
            "grouped_category_Whiskeys 1.6899         \n",
            "asian                     -1.4773        \n",
            "other_race                -1.4392        \n",
            "grouped_category_Vodka    1.3408         \n",
            "hisp_latino               1.2195         \n",
            "white_non_hisp            1.2018         \n",
            "am_indian_alaskan         -1.0719        \n",
            "grouped_category_Rums     0.8683         \n",
            "grouped_category_Liqueurs 0.7884         \n",
            "bachelors                 0.7457         \n",
            "black_afam                -0.7040        \n",
            "grouped_category_Bourbon  0.4369         \n",
            "adult_pop                 0.4023         \n",
            "grouped_category_Tequila  0.3555         \n",
            "grouped_category_Schnapps 0.2966         \n",
            "grouped_category_Other    0.2551         \n",
            "grouped_category_Brandies 0.2535         \n",
            "median_income             0.2106         \n",
            "div_sep                   0.2035         \n",
            "male                      -0.1976        \n",
            "grouped_category_Scotch   0.1898         \n",
            "grouped_category_Gins     0.1842         \n",
            "grouped_category_Cocktails 0.1752         \n",
            "month_name_December       0.1570         \n",
            "some_college_assoc        0.1106         \n",
            "month_name_October        0.1032         \n",
            "median_age                0.1022         \n",
            "month_name_June           0.0712         \n",
            "month_name_May            0.0610         \n",
            "month_name_January        -0.0596        \n",
            "below_poverty             -0.0585        \n",
            "month_name_August         0.0464         \n",
            "month_name_July           0.0458         \n",
            "month_name_February       -0.0450        \n",
            "poverty_100_149           0.0446         \n",
            "pacific_islander          0.0424         \n",
            "month_name_November       0.0310         \n",
            "month_name_September      0.0222         \n",
            "hs_grad                   -0.0210        \n",
            "widowed                   0.0186         \n",
            "month_name_March          -0.0166        \n",
            "less_hs                   -0.0061        \n"
          ]
        }
      ]
    },
    {
      "cell_type": "code",
      "source": [
        "X_train, X_test, y_train, y_test = train_test_split(X, y, test_size=0.2, random_state=42)\n",
        "model = LinearRegression()\n",
        "model.fit(X_train, y_train)\n",
        "y_test_pred = model.predict(X_test)\n",
        "rmse_test, r2_test = regression_metrics(y_test, y_test_pred)\n",
        "print(\"Test RMSE:\", rmse_test)\n",
        "print(\"Test R^2:\", r2_test)"
      ],
      "metadata": {
        "id": "0hMDmirZTVIx",
        "colab": {
          "base_uri": "https://localhost:8080/"
        },
        "outputId": "f13bf191-a769-4739-f422-4289427cb845"
      },
      "execution_count": null,
      "outputs": [
        {
          "output_type": "stream",
          "name": "stdout",
          "text": [
            "Test RMSE: 0.4233263044416185\n",
            "Test R^2: 0.6047356449215187\n"
          ]
        }
      ]
    },
    {
      "cell_type": "code",
      "source": [
        "cross_validation(X, y, LinearRegression(), random_state = 1)"
      ],
      "metadata": {
        "colab": {
          "base_uri": "https://localhost:8080/"
        },
        "id": "8hAOxW_umIoV",
        "outputId": "d607265e-fddb-4510-f4d6-d6d63c93270c"
      },
      "execution_count": null,
      "outputs": [
        {
          "output_type": "execute_result",
          "data": {
            "text/plain": [
              "0.5977543362369033"
            ]
          },
          "metadata": {},
          "execution_count": 17
        }
      ]
    },
    {
      "cell_type": "code",
      "source": [
        "# Compute residuals\n",
        "residuals = y_test - y_test_pred\n",
        "\n",
        "# Plot residuals vs fitted values\n",
        "plt.scatter(y_test_pred, residuals)\n",
        "plt.axhline(y=0, color='r', linestyle='--')\n",
        "plt.xlabel('Fitted Values (Predicted)')\n",
        "plt.ylabel('Residuals')\n",
        "plt.title('Residuals vs Fitted Values')\n",
        "plt.show()"
      ],
      "metadata": {
        "colab": {
          "base_uri": "https://localhost:8080/",
          "height": 474
        },
        "id": "Os9wIOXp9F3S",
        "outputId": "323be3ca-44e1-423e-ad46-8efc581235c5"
      },
      "execution_count": null,
      "outputs": [
        {
          "output_type": "display_data",
          "data": {
            "text/plain": [
              "<Figure size 640x480 with 1 Axes>"
            ],
            "image/png": "[encoded data removed]"
          },
          "metadata": {}
        }
      ]
    },
    {
      "cell_type": "markdown",
      "source": [
        "#### Feature Selection"
      ],
      "metadata": {
        "id": "cqBTyelWp_cc"
      }
    },
    {
      "cell_type": "markdown",
      "source": [
        "In this cell, the Recursive Feature Elimination (RFE) method is used to iteratively find the best subset of features that maximizes the model’s performance. Starting with a set number of features (n), the function rfe() is applied to prune less important features from the dataset. For each subset of pruned features, the dataset is then passed through cross-validation to calculate the R² score, which measures the model's goodness-of-fit.\n",
        "\n",
        "The loop iterates through different feature counts (from 34 to the total number of features), and for each iteration, the best performing subset is selected based on the highest R² value. The best subset of features and the corresponding R² score are saved and printed at the end, identifying the optimal set of predictors for the linear regression model. This approach helps in selecting the most impactful features while avoiding overfitting."
      ],
      "metadata": {
        "id": "yLvYW9Ialm4i"
      }
    },
    {
      "cell_type": "code",
      "source": [
        "best_r2 = 0\n",
        "for n in range(34, len(X.columns) + 1):\n",
        "  features = rfe(X_standardized, y, n)\n",
        "  pruned_X = X[features]\n",
        "  r2 = cross_validation(pruned_X, y, LinearRegression(), random_state = 1)\n",
        "  if r2 > best_r2:\n",
        "    best_r2 = r2\n",
        "    best_features = features\n",
        "\n",
        "print(\"Best R^2:\", best_r2)\n",
        "print(\"Best Features:\", best_features)"
      ],
      "metadata": {
        "colab": {
          "base_uri": "https://localhost:8080/"
        },
        "id": "g2o8PGD-tUto",
        "outputId": "65f26f06-f89b-4a1b-8478-a964ae4ccb28"
      },
      "execution_count": null,
      "outputs": [
        {
          "output_type": "stream",
          "name": "stdout",
          "text": [
            "Best R^2: 0.5992579022148032\n",
            "Best Features: ['median_age', 'male', 'white', 'black_afam', 'am_indian_alaskan', 'asian', 'pacific_islander', 'other_race', 'two_plus_races', 'hisp_latino', 'white_non_hisp', 'div_sep', 'widowed', 'some_college_assoc', 'bachelors', 'median_income', 'below_poverty', 'poverty_100_149', 'adult_pop', 'month_name_August', 'month_name_December', 'month_name_February', 'month_name_January', 'month_name_July', 'month_name_June', 'month_name_March', 'month_name_May', 'month_name_November', 'month_name_October', 'month_name_September', 'grouped_category_Bourbon', 'grouped_category_Brandies', 'grouped_category_Cocktails', 'grouped_category_Gins', 'grouped_category_Liqueurs', 'grouped_category_Other', 'grouped_category_Rums', 'grouped_category_Schnapps', 'grouped_category_Scotch', 'grouped_category_Tequila', 'grouped_category_Vodka', 'grouped_category_Whiskeys']\n"
          ]
        }
      ]
    },
    {
      "cell_type": "code",
      "source": [
        "print(len(best_features))"
      ],
      "metadata": {
        "colab": {
          "base_uri": "https://localhost:8080/"
        },
        "id": "LWBKy2g28VWq",
        "outputId": "dcbbc064-e9f1-4cfd-9a55-19d3674b923f"
      },
      "execution_count": null,
      "outputs": [
        {
          "output_type": "stream",
          "name": "stdout",
          "text": [
            "42\n"
          ]
        }
      ]
    },
    {
      "cell_type": "code",
      "source": [
        "LinReg = LinearRegression()\n",
        "LinReg.fit(X_standardized[best_features],y)\n",
        "coefficient_dict = {feature: coef for feature, coef in zip(best_features, LinReg.coef_)}\n",
        "sorted_coeffs = sorted(coefficient_dict.items(),\n",
        "                                           key=lambda x: abs(x[1]),\n",
        "                                           reverse=True)\n",
        "print(\"{:<25} {:<15}\".format(\"Feature\", \"Standardized Coefficient\"))\n",
        "print(\"-\" * 50)\n",
        "for feature, coef in sorted_coeffs:\n",
        "    print(\"{:<25} {:<15.4f}\".format(feature, coef))\n",
        "print(\"{:<25} {:<15.4f}\".format(\"intercept\", LinReg.intercept_))"
      ],
      "metadata": {
        "colab": {
          "base_uri": "https://localhost:8080/"
        },
        "id": "ilgdYct0x2bA",
        "outputId": "22790b4c-309c-44cd-fae6-5674de5af8a2"
      },
      "execution_count": null,
      "outputs": [
        {
          "output_type": "stream",
          "name": "stdout",
          "text": [
            "Feature                   Standardized Coefficient\n",
            "--------------------------------------------------\n",
            "white                     -4.3148        \n",
            "grouped_category_Whiskeys 1.6900         \n",
            "asian                     -1.4806        \n",
            "other_race                -1.4412        \n",
            "grouped_category_Vodka    1.3408         \n",
            "hisp_latino               1.2103         \n",
            "white_non_hisp            1.1859         \n",
            "am_indian_alaskan         -1.0768        \n",
            "two_plus_races            -0.9940        \n",
            "grouped_category_Rums     0.8683         \n",
            "grouped_category_Liqueurs 0.7884         \n",
            "bachelors                 0.7665         \n",
            "black_afam                -0.7094        \n",
            "grouped_category_Bourbon  0.4369         \n",
            "adult_pop                 0.4050         \n",
            "grouped_category_Tequila  0.3555         \n",
            "grouped_category_Schnapps 0.2966         \n",
            "grouped_category_Other    0.2551         \n",
            "grouped_category_Brandies 0.2535         \n",
            "male                      -0.2192        \n",
            "median_income             0.2097         \n",
            "div_sep                   0.2021         \n",
            "grouped_category_Scotch   0.1898         \n",
            "grouped_category_Gins     0.1842         \n",
            "grouped_category_Cocktails 0.1752         \n",
            "month_name_December       0.1570         \n",
            "some_college_assoc        0.1186         \n",
            "month_name_October        0.1032         \n",
            "month_name_June           0.0712         \n",
            "month_name_May            0.0610         \n",
            "month_name_January        -0.0596        \n",
            "below_poverty             -0.0574        \n",
            "month_name_August         0.0464         \n",
            "month_name_July           0.0458         \n",
            "poverty_100_149           0.0450         \n",
            "month_name_February       -0.0450        \n",
            "median_age                0.0430         \n",
            "pacific_islander          0.0407         \n",
            "month_name_November       0.0310         \n",
            "month_name_September      0.0222         \n",
            "widowed                   0.0180         \n",
            "month_name_March          -0.0166        \n",
            "intercept                 2.3625         \n"
          ]
        }
      ]
    },
    {
      "cell_type": "markdown",
      "source": [
        "#### Best Features - For Interpretations"
      ],
      "metadata": {
        "id": "dMMDMZ1HYJ1G"
      }
    },
    {
      "cell_type": "markdown",
      "source": [
        "In these cells, the coefficients from a linear regression model are analyzed to identify the most influential features in predicting liquor sales per capita. The coefficients are divided into categories—positive and negative—based on their values, representing the direction and strength of each feature’s impact.\n",
        "\n",
        "The first set of cells sorts and displays the top five most positive and negative coefficients, with features like grouped_category_Whiskeys and hisp_latino having the strongest positive effects, while white and asian have strong negative effects. The second set further filters the coefficients to exclude months and categories, identifying demographic features like hisp_latino, white_non_hisp, and bachelors as having the highest influence.\n",
        "\n",
        "The final set of cells breaks down the analysis into three specific groups: months, liquor categories, and demographics. It ranks the top positive and negative coefficients for each group, revealing that certain months (like December and October) and liquor categories (like Vodka and Whiskeys) have the strongest effects on liquor sales per capita. This analysis helps in interpreting how different time periods, categories, and population segments influence sales trends."
      ],
      "metadata": {
        "id": "Mt3xjJ0mngCw"
      }
    },
    {
      "cell_type": "code",
      "source": [
        "top_positive_coeffs = sorted(coefficient_dict.items(), key=lambda item: item[1], reverse=True)[:5]\n",
        "top_negative_coeffs = sorted(coefficient_dict.items(), key=lambda item: item[1])[:5]\n",
        "\n",
        "print(\"Top 5 Most Positive Coefficients:\")\n",
        "for feature, coef in top_positive_coeffs:\n",
        "    print(f\"{feature}: {coef}\")\n",
        "\n",
        "print(\"\\nTop 5 Most Negative Coefficients:\")\n",
        "for feature, coef in top_negative_coeffs:\n",
        "    print(f\"{feature}: {coef}\")"
      ],
      "metadata": {
        "colab": {
          "base_uri": "https://localhost:8080/"
        },
        "id": "-wNQukWHBTxX",
        "outputId": "8ecf28be-70f1-4529-cee9-eba11d63b001"
      },
      "execution_count": null,
      "outputs": [
        {
          "output_type": "stream",
          "name": "stdout",
          "text": [
            "Top 5 Most Positive Coefficients:\n",
            "grouped_category_Whiskeys: 1.6899522852107676\n",
            "grouped_category_Vodka: 1.3407970532120141\n",
            "hisp_latino: 1.2102976965898555\n",
            "white_non_hisp: 1.1859043550607193\n",
            "grouped_category_Rums: 0.8682722582367639\n",
            "\n",
            "Top 5 Most Negative Coefficients:\n",
            "white: -4.314796830903262\n",
            "asian: -1.4805751059101095\n",
            "other_race: -1.4411785000032566\n",
            "am_indian_alaskan: -1.0768285487456195\n",
            "two_plus_races: -0.9940208346403296\n"
          ]
        }
      ]
    },
    {
      "cell_type": "code",
      "source": [
        "filtered_coeffs = {k: v for k, v in coefficient_dict.items() if not k.startswith('month_name_') and not k.startswith('grouped_category_')}\n",
        "\n",
        "top_positive_coeffs = [(feature, coef) for feature, coef in filtered_coeffs.items() if coef > 0]\n",
        "top_positive_coeffs = sorted(top_positive_coeffs, key=lambda item: item[1], reverse=True)[:10]\n",
        "\n",
        "top_negative_coeffs = [(feature, coef) for feature, coef in filtered_coeffs.items() if coef < 0]\n",
        "top_negative_coeffs = sorted(top_negative_coeffs, key=lambda item: item[1])[:10]\n",
        "\n",
        "print(\"Most Positive Coefficients in predicting\\nsales per capita (excluding months and categories):\")\n",
        "for feature, coef in top_positive_coeffs:\n",
        "    print(f\"{feature}: {coef}\")\n",
        "\n",
        "print(\"\\nMost Negative Coefficients in predicting\\nsales per capita (excluding months and categories):\")\n",
        "for feature, coef in top_negative_coeffs:\n",
        "    print(f\"{feature}: {coef}\")"
      ],
      "metadata": {
        "colab": {
          "base_uri": "https://localhost:8080/"
        },
        "id": "UecJ1X6oDss0",
        "outputId": "080999ae-8fee-401c-bccd-06246758231e"
      },
      "execution_count": null,
      "outputs": [
        {
          "output_type": "stream",
          "name": "stdout",
          "text": [
            "Most Positive Coefficients in predicting\n",
            "sales per capita (excluding months and categories):\n",
            "hisp_latino: 1.2102976965898555\n",
            "white_non_hisp: 1.1859043550607193\n",
            "bachelors: 0.7665315924830771\n",
            "adult_pop: 0.4050472226992511\n",
            "median_income: 0.20973373953895597\n",
            "div_sep: 0.2020559266325719\n",
            "some_college_assoc: 0.11863770132965994\n",
            "poverty_100_149: 0.04504458945935906\n",
            "median_age: 0.04299291680527391\n",
            "pacific_islander: 0.0406567824621546\n",
            "\n",
            "Most Negative Coefficients in predicting\n",
            "sales per capita (excluding months and categories):\n",
            "white: -4.314796830903262\n",
            "asian: -1.4805751059101095\n",
            "other_race: -1.4411785000032566\n",
            "am_indian_alaskan: -1.0768285487456195\n",
            "two_plus_races: -0.9940208346403296\n",
            "black_afam: -0.7094125121410413\n",
            "male: -0.21922838631180366\n",
            "below_poverty: -0.05737646339078103\n"
          ]
        }
      ]
    },
    {
      "cell_type": "code",
      "source": [
        "top_positive_month_coeffs = [\n",
        "    (feature, coef)\n",
        "    for feature, coef in coefficient_dict.items()\n",
        "    if feature.startswith(\"month_name_\") and coef > 0\n",
        "]\n",
        "top_positive_month_coeffs.sort(key=lambda x: x[1], reverse=True)\n",
        "\n",
        "top_negative_month_coeffs = [\n",
        "    (feature, coef)\n",
        "    for feature, coef in coefficient_dict.items()\n",
        "    if feature.startswith(\"month_name_\") and coef < 0\n",
        "]\n",
        "top_negative_month_coeffs.sort(key=lambda x: x[1])\n",
        "\n",
        "\n",
        "top_positive_category_coeffs = [\n",
        "    (feature, coef)\n",
        "    for feature, coef in coefficient_dict.items()\n",
        "    if feature.startswith(\"grouped_category_\") and coef > 0\n",
        "]\n",
        "top_positive_category_coeffs.sort(key=lambda x: x[1], reverse=True)\n",
        "\n",
        "top_negative_category_coeffs = [\n",
        "    (feature, coef)\n",
        "    for feature, coef in coefficient_dict.items()\n",
        "    if feature.startswith(\"grouped_category_\") and coef < 0\n",
        "]\n",
        "top_negative_category_coeffs.sort(key=lambda x: x[1])\n",
        "\n",
        "print(\"Top Positive Month Coefficients in predicting\\nsales per capita:\")\n",
        "for feature, coef in top_positive_month_coeffs:\n",
        "    print(f\"{feature}: {coef}\")\n",
        "\n",
        "print(\"\\nTop Negative Month Coefficients in predicting\\nsales per capita:\")\n",
        "for feature, coef in top_negative_month_coeffs:\n",
        "    print(f\"{feature}: {coef}\")\n",
        "\n",
        "print(\"\\nTop Category Coefficients in predicting\\nsales per capita:\")\n",
        "for feature, coef in top_positive_category_coeffs:\n",
        "    print(f\"{feature}: {coef}\")\n",
        "\n",
        "print(\"\\nTop Negative Category Coefficients in predicting\\nsales per capita:\")\n",
        "for feature, coef in top_negative_category_coeffs:\n",
        "    print(f\"{feature}: {coef}\")\n"
      ],
      "metadata": {
        "colab": {
          "base_uri": "https://localhost:8080/"
        },
        "id": "CN5ESapmB3cp",
        "outputId": "6b56b6a2-3328-4b75-c215-4234d3ccce1a"
      },
      "execution_count": null,
      "outputs": [
        {
          "output_type": "stream",
          "name": "stdout",
          "text": [
            "Top Positive Month Coefficients in predicting\n",
            "sales per capita:\n",
            "month_name_December: 0.15704741232895073\n",
            "month_name_October: 0.10319478588234318\n",
            "month_name_June: 0.07117500743784812\n",
            "month_name_May: 0.06101361008763084\n",
            "month_name_August: 0.04642304431948189\n",
            "month_name_July: 0.04582971973283962\n",
            "month_name_November: 0.030957614608400304\n",
            "month_name_September: 0.02215938398647072\n",
            "\n",
            "Top Negative Month Coefficients in predicting\n",
            "sales per capita:\n",
            "month_name_January: -0.05962861587102495\n",
            "month_name_February: -0.045008094051032385\n",
            "month_name_March: -0.016584354226821245\n",
            "\n",
            "Top Category Coefficients in predicting\n",
            "sales per capita:\n",
            "grouped_category_Whiskeys: 1.6899522852107676\n",
            "grouped_category_Vodka: 1.3407970532120141\n",
            "grouped_category_Rums: 0.8682722582367639\n",
            "grouped_category_Liqueurs: 0.7883734806985689\n",
            "grouped_category_Bourbon: 0.43690126836996723\n",
            "grouped_category_Tequila: 0.3555239377596432\n",
            "grouped_category_Schnapps: 0.2965676603830196\n",
            "grouped_category_Other: 0.25511653059691064\n",
            "grouped_category_Brandies: 0.25346183247508075\n",
            "grouped_category_Scotch: 0.18977815918039043\n",
            "grouped_category_Gins: 0.18422344936629867\n",
            "grouped_category_Cocktails: 0.17524360591884708\n",
            "\n",
            "Top Negative Category Coefficients in predicting\n",
            "sales per capita:\n"
          ]
        }
      ]
    },
    {
      "cell_type": "markdown",
      "source": [
        "### Booze R US"
      ],
      "metadata": {
        "id": "Bh4eqpCsYTZs"
      }
    },
    {
      "cell_type": "markdown",
      "source": [
        "In these cells, linear regression and ridge regression are used to analyze the relationship between features from the dataset and liquor sales per capita. The first attempt with linear regression results in a \"Singular Matrix\" error, indicating that the matrix used in the calculations is not invertible, due to perfect multicollinearity.\n",
        "\n",
        "To overcome this, ridge regression is applied with various values of the regularization parameter (alpha). Ridge regression adds a regularization term to address issues like multicollinearity, making the matrix invertible. The model is evaluated using cross-validation, and the best alpha value is selected based on the R² score. In this case, the best alpha is found to be 1.0, with a corresponding R² value of 0.711, indicating a strong model performance. This demonstrates how ridge regression helps stabilize the model when linear regression fails due to data issues."
      ],
      "metadata": {
        "id": "TrThOsEen-TV"
      }
    },
    {
      "cell_type": "code",
      "source": [
        "X = final_df_with_interactions[features_BOOZE]\n",
        "y = final_df_with_interactions['sale_per_capita']\n",
        "print(\"Linear Regression:\")\n",
        "print(cross_validation(X, y, LinearRegression(), random_state = 1))"
      ],
      "metadata": {
        "colab": {
          "base_uri": "https://localhost:8080/",
          "height": 414
        },
        "id": "lP4tlZ2xT7bo",
        "outputId": "d12d13ac-d97d-437d-aa07-420a980b942e"
      },
      "execution_count": null,
      "outputs": [
        {
          "output_type": "stream",
          "name": "stdout",
          "text": [
            "Linear Regression:\n"
          ]
        },
        {
          "output_type": "error",
          "ename": "LinAlgError",
          "evalue": "Singular matrix",
          "traceback": [
            "\u001b[0;31m---------------------------------------------------------------------------\u001b[0m",
            "\u001b[0;31mLinAlgError\u001b[0m                               Traceback (most recent call last)",
            "\u001b[0;32m<ipython-input-24-74e97d446539>\u001b[0m in \u001b[0;36m<cell line: 4>\u001b[0;34m()\u001b[0m\n\u001b[1;32m      2\u001b[0m \u001b[0my\u001b[0m \u001b[0;34m=\u001b[0m \u001b[0mfinal_df_with_interactions\u001b[0m\u001b[0;34m[\u001b[0m\u001b[0;34m'sale_per_capita'\u001b[0m\u001b[0;34m]\u001b[0m\u001b[0;34m\u001b[0m\u001b[0;34m\u001b[0m\u001b[0m\n\u001b[1;32m      3\u001b[0m \u001b[0mprint\u001b[0m\u001b[0;34m(\u001b[0m\u001b[0;34m\"Linear Regression:\"\u001b[0m\u001b[0;34m)\u001b[0m\u001b[0;34m\u001b[0m\u001b[0;34m\u001b[0m\u001b[0m\n\u001b[0;32m----> 4\u001b[0;31m \u001b[0mprint\u001b[0m\u001b[0;34m(\u001b[0m\u001b[0mcross_validation\u001b[0m\u001b[0;34m(\u001b[0m\u001b[0mX\u001b[0m\u001b[0;34m,\u001b[0m \u001b[0my\u001b[0m\u001b[0;34m,\u001b[0m \u001b[0mLinearRegression\u001b[0m\u001b[0;34m(\u001b[0m\u001b[0;34m)\u001b[0m\u001b[0;34m,\u001b[0m \u001b[0mrandom_state\u001b[0m \u001b[0;34m=\u001b[0m \u001b[0;36m1\u001b[0m\u001b[0;34m)\u001b[0m\u001b[0;34m)\u001b[0m\u001b[0;34m\u001b[0m\u001b[0;34m\u001b[0m\u001b[0m\n\u001b[0m",
            "\u001b[0;32m<ipython-input-13-134f018bb614>\u001b[0m in \u001b[0;36mcross_validation\u001b[0;34m(X, y, model, k, random_state)\u001b[0m\n\u001b[1;32m     75\u001b[0m         \u001b[0mX_val\u001b[0m\u001b[0;34m,\u001b[0m \u001b[0my_val\u001b[0m \u001b[0;34m=\u001b[0m \u001b[0mX\u001b[0m\u001b[0;34m.\u001b[0m\u001b[0miloc\u001b[0m\u001b[0;34m[\u001b[0m\u001b[0mvalidation_indices\u001b[0m\u001b[0;34m]\u001b[0m\u001b[0;34m,\u001b[0m \u001b[0my\u001b[0m\u001b[0;34m.\u001b[0m\u001b[0miloc\u001b[0m\u001b[0;34m[\u001b[0m\u001b[0mvalidation_indices\u001b[0m\u001b[0;34m]\u001b[0m\u001b[0;34m\u001b[0m\u001b[0;34m\u001b[0m\u001b[0m\n\u001b[1;32m     76\u001b[0m \u001b[0;34m\u001b[0m\u001b[0m\n\u001b[0;32m---> 77\u001b[0;31m         \u001b[0mmodel\u001b[0m\u001b[0;34m.\u001b[0m\u001b[0mfit\u001b[0m\u001b[0;34m(\u001b[0m\u001b[0mX_train\u001b[0m\u001b[0;34m,\u001b[0m \u001b[0my_train\u001b[0m\u001b[0;34m)\u001b[0m\u001b[0;34m\u001b[0m\u001b[0;34m\u001b[0m\u001b[0m\n\u001b[0m\u001b[1;32m     78\u001b[0m         \u001b[0my_pred\u001b[0m \u001b[0;34m=\u001b[0m \u001b[0mmodel\u001b[0m\u001b[0;34m.\u001b[0m\u001b[0mpredict\u001b[0m\u001b[0;34m(\u001b[0m\u001b[0mX_val\u001b[0m\u001b[0;34m)\u001b[0m\u001b[0;34m\u001b[0m\u001b[0;34m\u001b[0m\u001b[0m\n\u001b[1;32m     79\u001b[0m \u001b[0;34m\u001b[0m\u001b[0m\n",
            "\u001b[0;32m<ipython-input-13-134f018bb614>\u001b[0m in \u001b[0;36mfit\u001b[0;34m(self, X_train, y_train)\u001b[0m\n\u001b[1;32m      6\u001b[0m     \u001b[0;32mdef\u001b[0m \u001b[0mfit\u001b[0m\u001b[0;34m(\u001b[0m\u001b[0mself\u001b[0m\u001b[0;34m,\u001b[0m\u001b[0mX_train\u001b[0m\u001b[0;34m,\u001b[0m\u001b[0my_train\u001b[0m\u001b[0;34m)\u001b[0m\u001b[0;34m:\u001b[0m\u001b[0;34m\u001b[0m\u001b[0;34m\u001b[0m\u001b[0m\n\u001b[1;32m      7\u001b[0m         \u001b[0mX_train\u001b[0m \u001b[0;34m=\u001b[0m \u001b[0mnp\u001b[0m\u001b[0;34m.\u001b[0m\u001b[0minsert\u001b[0m\u001b[0;34m(\u001b[0m\u001b[0mX_train\u001b[0m\u001b[0;34m,\u001b[0m \u001b[0;36m0\u001b[0m\u001b[0;34m,\u001b[0m \u001b[0;36m1\u001b[0m\u001b[0;34m,\u001b[0m\u001b[0maxis\u001b[0m\u001b[0;34m=\u001b[0m\u001b[0;36m1\u001b[0m\u001b[0;34m)\u001b[0m\u001b[0;34m\u001b[0m\u001b[0;34m\u001b[0m\u001b[0m\n\u001b[0;32m----> 8\u001b[0;31m         \u001b[0mresult\u001b[0m \u001b[0;34m=\u001b[0m \u001b[0mnp\u001b[0m\u001b[0;34m.\u001b[0m\u001b[0mlinalg\u001b[0m\u001b[0;34m.\u001b[0m\u001b[0minv\u001b[0m\u001b[0;34m(\u001b[0m\u001b[0mnp\u001b[0m\u001b[0;34m.\u001b[0m\u001b[0mdot\u001b[0m\u001b[0;34m(\u001b[0m\u001b[0mX_train\u001b[0m\u001b[0;34m.\u001b[0m\u001b[0mT\u001b[0m\u001b[0;34m,\u001b[0m\u001b[0mX_train\u001b[0m\u001b[0;34m)\u001b[0m\u001b[0;34m)\u001b[0m\u001b[0;34m.\u001b[0m\u001b[0mdot\u001b[0m\u001b[0;34m(\u001b[0m\u001b[0mX_train\u001b[0m\u001b[0;34m.\u001b[0m\u001b[0mT\u001b[0m\u001b[0;34m)\u001b[0m\u001b[0;34m.\u001b[0m\u001b[0mdot\u001b[0m\u001b[0;34m(\u001b[0m\u001b[0my_train\u001b[0m\u001b[0;34m)\u001b[0m\u001b[0;34m\u001b[0m\u001b[0;34m\u001b[0m\u001b[0m\n\u001b[0m\u001b[1;32m      9\u001b[0m         \u001b[0mself\u001b[0m\u001b[0;34m.\u001b[0m\u001b[0mintercept_\u001b[0m \u001b[0;34m=\u001b[0m \u001b[0mresult\u001b[0m\u001b[0;34m[\u001b[0m\u001b[0;36m0\u001b[0m\u001b[0;34m]\u001b[0m\u001b[0;34m\u001b[0m\u001b[0;34m\u001b[0m\u001b[0m\n\u001b[1;32m     10\u001b[0m         \u001b[0mself\u001b[0m\u001b[0;34m.\u001b[0m\u001b[0mcoef_\u001b[0m \u001b[0;34m=\u001b[0m \u001b[0mresult\u001b[0m\u001b[0;34m[\u001b[0m\u001b[0;36m1\u001b[0m\u001b[0;34m:\u001b[0m\u001b[0;34m]\u001b[0m\u001b[0;34m\u001b[0m\u001b[0;34m\u001b[0m\u001b[0m\n",
            "\u001b[0;32m/usr/local/lib/python3.10/dist-packages/numpy/linalg/linalg.py\u001b[0m in \u001b[0;36minv\u001b[0;34m(a)\u001b[0m\n\u001b[1;32m    559\u001b[0m     \u001b[0msignature\u001b[0m \u001b[0;34m=\u001b[0m \u001b[0;34m'D->D'\u001b[0m \u001b[0;32mif\u001b[0m \u001b[0misComplexType\u001b[0m\u001b[0;34m(\u001b[0m\u001b[0mt\u001b[0m\u001b[0;34m)\u001b[0m \u001b[0;32melse\u001b[0m \u001b[0;34m'd->d'\u001b[0m\u001b[0;34m\u001b[0m\u001b[0;34m\u001b[0m\u001b[0m\n\u001b[1;32m    560\u001b[0m     \u001b[0mextobj\u001b[0m \u001b[0;34m=\u001b[0m \u001b[0mget_linalg_error_extobj\u001b[0m\u001b[0;34m(\u001b[0m\u001b[0m_raise_linalgerror_singular\u001b[0m\u001b[0;34m)\u001b[0m\u001b[0;34m\u001b[0m\u001b[0;34m\u001b[0m\u001b[0m\n\u001b[0;32m--> 561\u001b[0;31m     \u001b[0mainv\u001b[0m \u001b[0;34m=\u001b[0m \u001b[0m_umath_linalg\u001b[0m\u001b[0;34m.\u001b[0m\u001b[0minv\u001b[0m\u001b[0;34m(\u001b[0m\u001b[0ma\u001b[0m\u001b[0;34m,\u001b[0m \u001b[0msignature\u001b[0m\u001b[0;34m=\u001b[0m\u001b[0msignature\u001b[0m\u001b[0;34m,\u001b[0m \u001b[0mextobj\u001b[0m\u001b[0;34m=\u001b[0m\u001b[0mextobj\u001b[0m\u001b[0;34m)\u001b[0m\u001b[0;34m\u001b[0m\u001b[0;34m\u001b[0m\u001b[0m\n\u001b[0m\u001b[1;32m    562\u001b[0m     \u001b[0;32mreturn\u001b[0m \u001b[0mwrap\u001b[0m\u001b[0;34m(\u001b[0m\u001b[0mainv\u001b[0m\u001b[0;34m.\u001b[0m\u001b[0mastype\u001b[0m\u001b[0;34m(\u001b[0m\u001b[0mresult_t\u001b[0m\u001b[0;34m,\u001b[0m \u001b[0mcopy\u001b[0m\u001b[0;34m=\u001b[0m\u001b[0;32mFalse\u001b[0m\u001b[0;34m)\u001b[0m\u001b[0;34m)\u001b[0m\u001b[0;34m\u001b[0m\u001b[0;34m\u001b[0m\u001b[0m\n\u001b[1;32m    563\u001b[0m \u001b[0;34m\u001b[0m\u001b[0m\n",
            "\u001b[0;32m/usr/local/lib/python3.10/dist-packages/numpy/linalg/linalg.py\u001b[0m in \u001b[0;36m_raise_linalgerror_singular\u001b[0;34m(err, flag)\u001b[0m\n\u001b[1;32m    110\u001b[0m \u001b[0;34m\u001b[0m\u001b[0m\n\u001b[1;32m    111\u001b[0m \u001b[0;32mdef\u001b[0m \u001b[0m_raise_linalgerror_singular\u001b[0m\u001b[0;34m(\u001b[0m\u001b[0merr\u001b[0m\u001b[0;34m,\u001b[0m \u001b[0mflag\u001b[0m\u001b[0;34m)\u001b[0m\u001b[0;34m:\u001b[0m\u001b[0;34m\u001b[0m\u001b[0;34m\u001b[0m\u001b[0m\n\u001b[0;32m--> 112\u001b[0;31m     \u001b[0;32mraise\u001b[0m \u001b[0mLinAlgError\u001b[0m\u001b[0;34m(\u001b[0m\u001b[0;34m\"Singular matrix\"\u001b[0m\u001b[0;34m)\u001b[0m\u001b[0;34m\u001b[0m\u001b[0;34m\u001b[0m\u001b[0m\n\u001b[0m\u001b[1;32m    113\u001b[0m \u001b[0;34m\u001b[0m\u001b[0m\n\u001b[1;32m    114\u001b[0m \u001b[0;32mdef\u001b[0m \u001b[0m_raise_linalgerror_nonposdef\u001b[0m\u001b[0;34m(\u001b[0m\u001b[0merr\u001b[0m\u001b[0;34m,\u001b[0m \u001b[0mflag\u001b[0m\u001b[0;34m)\u001b[0m\u001b[0;34m:\u001b[0m\u001b[0;34m\u001b[0m\u001b[0;34m\u001b[0m\u001b[0m\n",
            "\u001b[0;31mLinAlgError\u001b[0m: Singular matrix"
          ]
        }
      ]
    },
    {
      "cell_type": "code",
      "source": [
        "X = final_df_with_interactions[features_BOOZE]\n",
        "y = final_df_with_interactions['sale_per_capita']\n",
        "alpha_values = np.arange(0.5, 3, 0.5).tolist()\n",
        "best_alpha = None\n",
        "best_r2 = -np.inf\n",
        "for alpha in alpha_values:\n",
        "  model = RidgeRegression(alpha=alpha)\n",
        "  r2 = cross_validation(X, y, model, random_state = 1)\n",
        "  if r2 > best_r2:\n",
        "    best_r2 = r2\n",
        "    best_alpha = alpha\n",
        "print(\"Ridge Regression:\")\n",
        "print(\"Best Alpha:\", best_alpha)\n",
        "print(\"Best R^2:\", best_r2)"
      ],
      "metadata": {
        "id": "EfDEqPyaYpqA"
      },
      "execution_count": null,
      "outputs": []
    },
    {
      "cell_type": "markdown",
      "source": [
        "Increased the cross-validated R^2 from 0.5991433582536697 (simple, interpretable model for dare) to 0.7118597677666095 by including interactions and doing a ridge regression to account for the high multicollinearity."
      ],
      "metadata": {
        "id": "s0DD5DWdt56X"
      }
    },
    {
      "cell_type": "markdown",
      "source": [
        "Can use this model to predict what a counties total sales will look like in 2025 for each month and alcohol category, only need demographics data."
      ],
      "metadata": {
        "id": "kscUEJPWvWC-"
      }
    },
    {
      "cell_type": "code",
      "source": [
        "X = final_df_with_interactions[features_BOOZE]\n",
        "y = final_df_with_interactions['sale_per_capita']\n",
        "X_train, X_test, y_train, y_test = train_test_split(X, y, test_size=0.2, random_state=42)\n",
        "model = RidgeRegression(alpha = 1)\n",
        "model.fit(X_train, y_train)\n",
        "y_test_pred = model.predict(X_test)\n",
        "rmse_test, r2_test = regression_metrics(y_test, y_test_pred)\n",
        "print(\"Test RMSE:\", rmse_test)\n",
        "print(\"Test R^2:\", r2_test)"
      ],
      "metadata": {
        "id": "g5r67jMg9PXk"
      },
      "execution_count": null,
      "outputs": []
    },
    {
      "cell_type": "markdown",
      "source": [
        "**DARE MODEL:**\n",
        "\n",
        "Test RMSE: 0.4233263044416185\n",
        "\n",
        "Test R^2: 0.6047356449215187\n",
        "\n",
        "**BOOZE R US MODEL:**\n",
        "\n",
        "Test RMSE: 0.36127390289677863\n",
        "\n",
        "Test R^2: 0.7121207764989228"
      ],
      "metadata": {
        "id": "N2vuaQ6N9fwy"
      }
    },
    {
      "cell_type": "code",
      "source": [
        "X = final_df_with_interactions[features_BOOZE]\n",
        "y = final_df_with_interactions['sale_per_capita']\n",
        "model = RidgeRegression(alpha = 1)\n",
        "model.fit(X, y)"
      ],
      "metadata": {
        "id": "ku0PnXbD9_AM"
      },
      "execution_count": null,
      "outputs": []
    },
    {
      "cell_type": "code",
      "source": [
        "coefficient_dict = {feature: coef for feature, coef in zip(features_BOOZE, model.coef_)}\n",
        "sorted_coeffs = sorted(coefficient_dict.items(),\n",
        "                                           key=lambda x: abs(x[1]),\n",
        "                                           reverse=True)\n",
        "print(\"{:<25} {:<15}\".format(\"Feature\", \"Coefficient\"))\n",
        "print(\"-\" * 50)\n",
        "for feature, coef in sorted_coeffs:\n",
        "    print(\"{:<25} {:<15.4f}\".format(feature, coef))"
      ],
      "metadata": {
        "id": "ubeSdpOu-O1I"
      },
      "execution_count": null,
      "outputs": []
    },
    {
      "cell_type": "markdown",
      "source": [
        "#### Predictions"
      ],
      "metadata": {
        "id": "hi0-UhAKojRS"
      }
    },
    {
      "cell_type": "code",
      "source": [
        "# Example usage\n",
        "data = {\n",
        "    'county': ['MadeUpCounty'],\n",
        "    'year': [2024],\n",
        "    'total_pop': [demographics['total_pop'].mean()],\n",
        "    'median_age': [demographics['median_age'].mean()],\n",
        "    'male': [demographics['male'].mean()],\n",
        "    'one_race': [demographics['one_race'].mean()],\n",
        "    'white': [demographics['white'].mean()],\n",
        "    'black_afam': [demographics['black_afam'].mean()],\n",
        "    'am_indian_alaskan': [demographics['am_indian_alaskan'].mean()],\n",
        "    'asian': [demographics['asian'].mean()],\n",
        "    'pacific_islander': [demographics['pacific_islander'].mean()],\n",
        "    'other_race': [demographics['other_race'].mean()],\n",
        "    'two_plus_races': [demographics['two_plus_races'].mean()],\n",
        "    'hisp_latino': [demographics['hisp_latino'].mean()],\n",
        "    'white_non_hisp': [demographics['white_non_hisp'].mean()],\n",
        "    'div_sep': [demographics['div_sep'].mean()],\n",
        "    'widowed': [demographics['widowed'].mean()],\n",
        "    'less_hs': [demographics['less_hs'].mean()],\n",
        "    'hs_grad': [demographics['hs_grad'].mean()],\n",
        "    'some_college_assoc': [demographics['some_college_assoc'].mean()],\n",
        "    'bachelors': [demographics['bachelors'].mean()],\n",
        "    'median_income': [demographics['median_income'].mean()],\n",
        "    'below_poverty': [demographics['below_poverty'].mean()],\n",
        "    'poverty_100_149': [demographics['poverty_100_149'].mean()],\n",
        "    'adult_pop': [demographics['adult_pop'].mean()],\n",
        "    'month_name_August': [0],\n",
        "    'month_name_December': [1],\n",
        "    'month_name_February': [0],\n",
        "    'month_name_January': [0],\n",
        "    'month_name_July': [0],\n",
        "    'month_name_June': [0],\n",
        "    'month_name_March': [0],\n",
        "    'month_name_May': [0],\n",
        "    'month_name_November': [0],\n",
        "    'month_name_October': [0],\n",
        "    'month_name_September': [0],\n",
        "    'grouped_category_Bourbon':[0],\n",
        "    'grouped_category_Brandies':[0],\n",
        "    'grouped_category_Cocktails':[0],\n",
        "    'grouped_category_Gins':[0],\n",
        "    'grouped_category_Liqueurs':[0],\n",
        "    'grouped_category_Other':[0],\n",
        "    'grouped_category_Rums':[0],\n",
        "    'grouped_category_Schnapps':[0],\n",
        "    'grouped_category_Scotch':[0],\n",
        "    'grouped_category_Tequila':[0],\n",
        "    'grouped_category_Vodka':[1],\n",
        "    'grouped_category_Whiskeys':[0]\n",
        "}\n",
        "df_madeup_county = pd.DataFrame(data)\n",
        "df_madeup_county[['total_pop', 'median_age', 'male', 'one_race', 'white', 'black_afam',\n",
        "            'am_indian_alaskan', 'asian', 'pacific_islander', 'other_race',\n",
        "            'two_plus_races', 'hisp_latino', 'white_non_hisp', 'div_sep', 'widowed',\n",
        "            'less_hs', 'hs_grad', 'some_college_assoc', 'bachelors', 'median_income',\n",
        "            'below_poverty', 'poverty_100_149', 'adult_pop']]"
      ],
      "metadata": {
        "id": "frxgd-XiAoBu",
        "colab": {
          "base_uri": "https://localhost:8080/",
          "height": 130
        },
        "outputId": "7b97b249-ff67-4713-8dff-aefb151da589"
      },
      "execution_count": null,
      "outputs": [
        {
          "output_type": "execute_result",
          "data": {
            "text/plain": [
              "      total_pop  median_age      male  one_race     white  black_afam  \\\n",
              "0  31493.550046   41.861157  0.498837  0.981484  0.942705    0.013539   \n",
              "\n",
              "   am_indian_alaskan     asian  pacific_islander  other_race  ...   div_sep  \\\n",
              "0            0.00334  0.010372            0.0007    0.010789  ...  0.116368   \n",
              "\n",
              "    widowed   less_hs   hs_grad  some_college_assoc  bachelors  median_income  \\\n",
              "0  0.074135  0.087711  0.363702            0.336037    0.15055   29340.778696   \n",
              "\n",
              "   below_poverty  poverty_100_149  adult_pop  \n",
              "0       0.113502         0.090951   0.769223  \n",
              "\n",
              "[1 rows x 23 columns]"
            ],
            "text/html": [
              "\n",
              "  <div id=\"df-31c11967-1d5e-4ec8-9952-4d18ba321d55\" class=\"colab-df-container\">\n",
              "    <div>\n",
              "<style scoped>\n",
              "    .dataframe tbody tr th:only-of-type {\n",
              "        vertical-align: middle;\n",
              "    }\n",
              "\n",
              "    .dataframe tbody tr th {\n",
              "        vertical-align: top;\n",
              "    }\n",
              "\n",
              "    .dataframe thead th {\n",
              "        text-align: right;\n",
              "    }\n",
              "</style>\n",
              "<table border=\"1\" class=\"dataframe\">\n",
              "  <thead>\n",
              "    <tr style=\"text-align: right;\">\n",
              "      <th></th>\n",
              "      <th>total_pop</th>\n",
              "      <th>median_age</th>\n",
              "      <th>male</th>\n",
              "      <th>one_race</th>\n",
              "      <th>white</th>\n",
              "      <th>black_afam</th>\n",
              "      <th>am_indian_alaskan</th>\n",
              "      <th>asian</th>\n",
              "      <th>pacific_islander</th>\n",
              "      <th>other_race</th>\n",
              "      <th>...</th>\n",
              "      <th>div_sep</th>\n",
              "      <th>widowed</th>\n",
              "      <th>less_hs</th>\n",
              "      <th>hs_grad</th>\n",
              "      <th>some_college_assoc</th>\n",
              "      <th>bachelors</th>\n",
              "      <th>median_income</th>\n",
              "      <th>below_poverty</th>\n",
              "      <th>poverty_100_149</th>\n",
              "      <th>adult_pop</th>\n",
              "    </tr>\n",
              "  </thead>\n",
              "  <tbody>\n",
              "    <tr>\n",
              "      <th>0</th>\n",
              "      <td>31493.550046</td>\n",
              "      <td>41.861157</td>\n",
              "      <td>0.498837</td>\n",
              "      <td>0.981484</td>\n",
              "      <td>0.942705</td>\n",
              "      <td>0.013539</td>\n",
              "      <td>0.00334</td>\n",
              "      <td>0.010372</td>\n",
              "      <td>0.0007</td>\n",
              "      <td>0.010789</td>\n",
              "      <td>...</td>\n",
              "      <td>0.116368</td>\n",
              "      <td>0.074135</td>\n",
              "      <td>0.087711</td>\n",
              "      <td>0.363702</td>\n",
              "      <td>0.336037</td>\n",
              "      <td>0.15055</td>\n",
              "      <td>29340.778696</td>\n",
              "      <td>0.113502</td>\n",
              "      <td>0.090951</td>\n",
              "      <td>0.769223</td>\n",
              "    </tr>\n",
              "  </tbody>\n",
              "</table>\n",
              "<p>1 rows × 23 columns</p>\n",
              "</div>\n",
              "    <div class=\"colab-df-buttons\">\n",
              "\n",
              "  <div class=\"colab-df-container\">\n",
              "    <button class=\"colab-df-convert\" onclick=\"convertToInteractive('df-31c11967-1d5e-4ec8-9952-4d18ba321d55')\"\n",
              "            title=\"Convert this dataframe to an interactive table.\"\n",
              "            style=\"display:none;\">\n",
              "\n",
              "  <svg xmlns=\"http://www.w3.org/2000/svg\" height=\"24px\" viewBox=\"0 -960 960 960\">\n",
              "    <path d=\"M120-120v-720h720v720H120Zm60-500h600v-160H180v160Zm220 220h160v-160H400v160Zm0 220h160v-160H400v160ZM180-400h160v-160H180v160Zm440 0h160v-160H620v160ZM180-180h160v-160H180v160Zm440 0h160v-160H620v160Z\"/>\n",
              "  </svg>\n",
              "    </button>\n",
              "\n",
              "  <style>\n",
              "    .colab-df-container {\n",
              "      display:flex;\n",
              "      gap: 12px;\n",
              "    }\n",
              "\n",
              "    .colab-df-convert {\n",
              "      background-color: #E8F0FE;\n",
              "      border: none;\n",
              "      border-radius: 50%;\n",
              "      cursor: pointer;\n",
              "      display: none;\n",
              "      fill: #1967D2;\n",
              "      height: 32px;\n",
              "      padding: 0 0 0 0;\n",
              "      width: 32px;\n",
              "    }\n",
              "\n",
              "    .colab-df-convert:hover {\n",
              "      background-color: #E2EBFA;\n",
              "      box-shadow: 0px 1px 2px rgba(60, 64, 67, 0.3), 0px 1px 3px 1px rgba(60, 64, 67, 0.15);\n",
              "      fill: #174EA6;\n",
              "    }\n",
              "\n",
              "    .colab-df-buttons div {\n",
              "      margin-bottom: 4px;\n",
              "    }\n",
              "\n",
              "    [theme=dark] .colab-df-convert {\n",
              "      background-color: #3B4455;\n",
              "      fill: #D2E3FC;\n",
              "    }\n",
              "\n",
              "    [theme=dark] .colab-df-convert:hover {\n",
              "      background-color: #434B5C;\n",
              "      box-shadow: 0px 1px 3px 1px rgba(0, 0, 0, 0.15);\n",
              "      filter: drop-shadow(0px 1px 2px rgba(0, 0, 0, 0.3));\n",
              "      fill: #FFFFFF;\n",
              "    }\n",
              "  </style>\n",
              "\n",
              "    <script>\n",
              "      const buttonEl =\n",
              "        document.querySelector('#df-31c11967-1d5e-4ec8-9952-4d18ba321d55 button.colab-df-convert');\n",
              "      buttonEl.style.display =\n",
              "        google.colab.kernel.accessAllowed ? 'block' : 'none';\n",
              "\n",
              "      async function convertToInteractive(key) {\n",
              "        const element = document.querySelector('#df-31c11967-1d5e-4ec8-9952-4d18ba321d55');\n",
              "        const dataTable =\n",
              "          await google.colab.kernel.invokeFunction('convertToInteractive',\n",
              "                                                    [key], {});\n",
              "        if (!dataTable) return;\n",
              "\n",
              "        const docLinkHtml = 'Like what you see? Visit the ' +\n",
              "          '<a target=\"_blank\" href=https://colab.research.google.com/notebooks/data_table.ipynb>data table notebook</a>'\n",
              "          + ' to learn more about interactive tables.';\n",
              "        element.innerHTML = '';\n",
              "        dataTable['output_type'] = 'display_data';\n",
              "        await google.colab.output.renderOutput(dataTable, element);\n",
              "        const docLink = document.createElement('div');\n",
              "        docLink.innerHTML = docLinkHtml;\n",
              "        element.appendChild(docLink);\n",
              "      }\n",
              "    </script>\n",
              "  </div>\n",
              "\n",
              "\n",
              "    </div>\n",
              "  </div>\n"
            ],
            "application/vnd.google.colaboratory.intrinsic+json": {
              "type": "dataframe"
            }
          },
          "metadata": {},
          "execution_count": 54
        }
      ]
    },
    {
      "cell_type": "markdown",
      "source": [
        "Example usage: Predict sales for a made up county for December 2024 using average demographics data for Iowa."
      ],
      "metadata": {
        "id": "HIch4Ws0ECG3"
      }
    },
    {
      "cell_type": "code",
      "source": [
        "df_madeup_county_interactions = create_interaction_features(df_madeup_county, features)\n",
        "X_madeup_county = df_madeup_county_interactions[features_BOOZE]\n",
        "\n",
        "y_pred_madeup_county_1 = model.predict(X_madeup_county) * df_madeup_county_interactions['total_pop']\n",
        "formatted_sales = \"${:,.2f}\".format(y_pred_madeup_county_1[0])\n",
        "print(\"Predicted Total Sales for vodka in December 2024 in made up county in dollars:\", formatted_sales)"
      ],
      "metadata": {
        "id": "WCWNa7LFDjMG",
        "colab": {
          "base_uri": "https://localhost:8080/"
        },
        "outputId": "cf3d0c93-cc12-4882-b41e-3aac7e4babb2"
      },
      "execution_count": null,
      "outputs": [
        {
          "output_type": "stream",
          "name": "stdout",
          "text": [
            "Predicted Total Sales for vodka in December 2024 in made up county in dollars: $45,970.57\n"
          ]
        }
      ]
    },
    {
      "cell_type": "code",
      "source": [
        "df_madeup_county['median_income'] = df_madeup_county['median_income'] - 20000\n",
        "df_madeup_county_interactions = create_interaction_features(df_madeup_county, features)\n",
        "X_madeup_county = df_madeup_county_interactions[features_BOOZE]\n",
        "\n",
        "y_pred_madeup_county_2 = model.predict(X_madeup_county) * df_madeup_county_interactions['total_pop']\n",
        "formatted_sales = \"${:,.2f}\".format(y_pred_madeup_county_2[0])\n",
        "print(\"Predicted Total Sales for vodka in December 2024 in made up county with lower median income of 20,000 in dollars:\", formatted_sales)"
      ],
      "metadata": {
        "id": "4XTbub-fHvaz",
        "colab": {
          "base_uri": "https://localhost:8080/"
        },
        "outputId": "b37e29e5-28a6-4043-8eea-ce6db44b0f73"
      },
      "execution_count": null,
      "outputs": [
        {
          "output_type": "stream",
          "name": "stdout",
          "text": [
            "Predicted Total Sales for vodka in December 2024 in made up county with lower median income of 20,000 in dollars: $30,450.29\n"
          ]
        }
      ]
    },
    {
      "cell_type": "code",
      "source": [
        "df_madeup_county['grouped_category_Vodka'] = [0]\n",
        "df_madeup_county['grouped_category_Whiskeys'] = [1]\n",
        "df_madeup_county_interactions = create_interaction_features(df_madeup_county, features)\n",
        "X_madeup_county = df_madeup_county_interactions[features_BOOZE]\n",
        "\n",
        "y_pred_madeup_county_3 = model.predict(X_madeup_county) * df_madeup_county_interactions['total_pop']\n",
        "formatted_sales = \"${:,.2f}\".format(y_pred_madeup_county_3[0])\n",
        "print(\"Predicted Total Sales for Whiskey in December 2024 in made up county with lower median income of 20,000 in dollars:\", formatted_sales)"
      ],
      "metadata": {
        "id": "ChUPshDWHX3Q",
        "colab": {
          "base_uri": "https://localhost:8080/"
        },
        "outputId": "3abf3224-04bd-41f3-b289-7dd31bffd1eb"
      },
      "execution_count": null,
      "outputs": [
        {
          "output_type": "stream",
          "name": "stdout",
          "text": [
            "Predicted Total Sales for Whiskey in December 2024 in made up county with lower median income of 20,000 in dollars: $57,159.99\n"
          ]
        }
      ]
    },
    {
      "cell_type": "code",
      "source": [
        "df_madeup_county['median_income'] = df_madeup_county['median_income'] + 20000\n",
        "df_madeup_county_interactions = create_interaction_features(df_madeup_county, features)\n",
        "X_madeup_county = df_madeup_county_interactions[features_BOOZE]\n",
        "y_pred_madeup_county_4 = model.predict(X_madeup_county) * df_madeup_county_interactions['total_pop']\n",
        "formatted_sales = \"${:,.2f}\".format(y_pred_madeup_county_4[0])\n",
        "print(\"Predicted Total Sales for Whiskey in December 2024 in made up county with avg income:\", formatted_sales)"
      ],
      "metadata": {
        "colab": {
          "base_uri": "https://localhost:8080/"
        },
        "id": "2SqxDlysC30n",
        "outputId": "d8b42d8a-d06c-4faa-84a2-ee70c721478b"
      },
      "execution_count": null,
      "outputs": [
        {
          "output_type": "stream",
          "name": "stdout",
          "text": [
            "Predicted Total Sales for Whiskey in December 2024 in made up county with avg income: $73,291.54\n"
          ]
        }
      ]
    },
    {
      "cell_type": "code",
      "source": [
        "predicted_sales_data = {\n",
        "    'Scenario': ['Vodka, Avg. Income', 'Vodka, Lower Income', 'Whiskey, Avg. Income', 'Whiskey, Lower Income'],\n",
        "    'Predicted Sales': [\n",
        "        y_pred_madeup_county_1[0] if len(y_pred_madeup_county_1) > 0 else 0,\n",
        "        y_pred_madeup_county_2[0] if len(y_pred_madeup_county_2) > 0 else 0,\n",
        "        y_pred_madeup_county_4[0] if len(y_pred_madeup_county_4) > 0 else 0,\n",
        "        y_pred_madeup_county_3[0] if len(y_pred_madeup_county_3) > 0 else 0,\n",
        "    ]\n",
        "}\n",
        "predicted_sales_df = pd.DataFrame(predicted_sales_data)\n",
        "\n",
        "print(predicted_sales_df.to_string(index=False))\n",
        "\n",
        "plt.figure(figsize=(10, 6))\n",
        "ax = sns.barplot(x='Scenario', y='Predicted Sales', data=predicted_sales_df)\n",
        "plt.title('Predicted Total Sales for MadeUpCounty in December 2024')\n",
        "plt.ylabel('Total Sales (in dollars)')\n",
        "\n",
        "plt.ylim(0, predicted_sales_df['Predicted Sales'].max() + 10000)\n",
        "\n",
        "for i in range(0, len(predicted_sales_df), 2):\n",
        "    bar1 = predicted_sales_df['Predicted Sales'][i]\n",
        "    bar2 = predicted_sales_df['Predicted Sales'][i+1]\n",
        "    difference = bar1 - bar2\n",
        "\n",
        "    x_coord_1 = ax.patches[i].get_x() + ax.patches[i].get_width() / 2\n",
        "    x_coord_2 = ax.patches[i+1].get_x() + ax.patches[i+1].get_width() / 2\n",
        "    x_mid = (x_coord_1 + x_coord_2) / 2\n",
        "\n",
        "    y_max = max(bar1, bar2)\n",
        "    ax.plot([x_coord_1, x_coord_1], [bar1, y_max + 3000], color='gray', linewidth=1.5)\n",
        "    ax.plot([x_coord_2, x_coord_2], [bar2, y_max + 3000], color='gray', linewidth=1.5)\n",
        "    ax.plot([x_coord_1, x_coord_2], [y_max + 3000, y_max + 3000], color='gray', linewidth=1.5)\n",
        "\n",
        "    ax.text(x_mid, y_max + 3500, f\"Difference: ${difference:.2f}\", ha=\"center\", fontsize=10)\n",
        "\n",
        "plt.show()\n"
      ],
      "metadata": {
        "colab": {
          "base_uri": "https://localhost:8080/",
          "height": 651
        },
        "id": "3nY0MzzrFg7T",
        "outputId": "d6ec17fb-9dd8-48c1-a39d-b7dbc3bfe92c"
      },
      "execution_count": null,
      "outputs": [
        {
          "output_type": "stream",
          "name": "stdout",
          "text": [
            "             Scenario  Predicted Sales\n",
            "   Vodka, Avg. Income     45970.568217\n",
            "  Vodka, Lower Income     30450.293068\n",
            " Whiskey, Avg. Income     73291.537434\n",
            "Whiskey, Lower Income     57159.994712\n"
          ]
        },
        {
          "output_type": "display_data",
          "data": {
            "text/plain": [
              "<Figure size 1000x600 with 1 Axes>"
            ],
            "image/png": "[encoded data removed]"
          },
          "metadata": {}
        }
      ]
    },
    {
      "cell_type": "markdown",
      "source": [
        "#### Extra Stuff"
      ],
      "metadata": {
        "id": "yB8iU-G7orj4"
      }
    },
    {
      "cell_type": "code",
      "source": [
        "plt.figure(figsize=(10, 6))\n",
        "y_pred = model.predict(X)\n",
        "plt.scatter(y_pred, y_pred - y)\n",
        "plt.xlabel(\"Fitted Values\")\n",
        "plt.ylabel(\"Residuals\")\n",
        "plt.title(\"Fitted vs. Residuals Plot For Model 2\")\n",
        "plt.axhline(y=0, color='r', linestyle='--')\n",
        "plt.show()"
      ],
      "metadata": {
        "id": "0kjU2S90J2s3"
      },
      "execution_count": null,
      "outputs": []
    },
    {
      "cell_type": "code",
      "source": [
        "X = final_df_with_interactions[features_BOOZE]\n",
        "y = np.log(final_df_with_interactions['sale_per_capita'])\n",
        "nan_indices = y[y.isna()].index\n",
        "inf_indices = y[np.isinf(y)].index\n",
        "invalid_indices = nan_indices.union(inf_indices)"
      ],
      "metadata": {
        "id": "CQQqKZBEPUO5"
      },
      "execution_count": null,
      "outputs": []
    },
    {
      "cell_type": "code",
      "source": [
        "final_df_with_interactions['sale_per_capita'].iloc[invalid_indices]"
      ],
      "metadata": {
        "id": "wC9xpdWwQ97_"
      },
      "execution_count": null,
      "outputs": []
    },
    {
      "cell_type": "code",
      "source": [
        "X = X.drop(invalid_indices)\n",
        "y = y.drop(invalid_indices)"
      ],
      "metadata": {
        "id": "DXu-O4htP6TM"
      },
      "execution_count": null,
      "outputs": []
    },
    {
      "cell_type": "code",
      "source": [
        "X_train, X_test, y_train, y_test = train_test_split(X, y, test_size=0.2, random_state=42)\n",
        "model = RidgeRegression(alpha = 1)\n",
        "model.fit(X_train, y_train)\n",
        "y_test_pred = model.predict(X_test)\n",
        "rmse_test, r2_test = regression_metrics(y_test, y_test_pred)\n",
        "print(\"Test RMSE:\", rmse_test)\n",
        "print(\"Test R^2:\", r2_test)"
      ],
      "metadata": {
        "id": "AuNduOdEKhNb"
      },
      "execution_count": null,
      "outputs": []
    },
    {
      "cell_type": "code",
      "source": [
        "cross_validation(X, y, RidgeRegression(alpha = 1), random_state = 1)"
      ],
      "metadata": {
        "id": "ldW5Phr4Kxm4"
      },
      "execution_count": null,
      "outputs": []
    },
    {
      "cell_type": "code",
      "source": [
        "model.fit(X, y)\n",
        "plt.figure(figsize=(10, 6))\n",
        "y_pred = model.predict(X)\n",
        "plt.scatter(y_pred, y_pred - y)\n",
        "plt.xlabel(\"Fitted Values\")\n",
        "plt.ylabel(\"Residuals\")\n",
        "plt.title(\"Fitted vs. Residuals Plot For Model 3\")\n",
        "plt.axhline(y=0, color='r', linestyle='--')\n",
        "plt.show()"
      ],
      "metadata": {
        "id": "pavaDtKASp8k"
      },
      "execution_count": null,
      "outputs": []
    },
    {
      "cell_type": "code",
      "source": [
        "cross_validation_rmse(X, y, RidgeRegression(alpha = 1), random_state = 1)"
      ],
      "metadata": {
        "id": "AtYmgFDhTg8Y"
      },
      "execution_count": null,
      "outputs": []
    },
    {
      "cell_type": "code",
      "source": [
        "X = final_df_with_interactions[features_BOOZE]\n",
        "y = final_df_with_interactions['sale_per_capita']\n",
        "cross_validation_rmse(X, y, RidgeRegression(alpha = 1), random_state = 1)"
      ],
      "metadata": {
        "id": "U5Rxjtc9ToAt"
      },
      "execution_count": null,
      "outputs": []
    },
    {
      "cell_type": "markdown",
      "source": [
        "Model 1 (not transformed) has a smaller R^2 but also lower RMSE while Model 2 (transformed) has a higher R^2 but a higher RMSE, we will advise Model 1 since focused on minimizing prediction error."
      ],
      "metadata": {
        "id": "kW2I7X-8UcTY"
      }
    }
  ]
}